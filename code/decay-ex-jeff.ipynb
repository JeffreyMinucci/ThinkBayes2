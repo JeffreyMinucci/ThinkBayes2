{
 "cells": [
  {
   "cell_type": "code",
   "execution_count": 98,
   "metadata": {},
   "outputs": [],
   "source": [
    "from __future__ import print_function, division\n",
    "\n",
    "import thinkbayes2\n",
    "\n",
    "import thinkplot\n",
    "import numpy\n",
    "\n",
    "import math\n",
    "import random\n",
    "import sys\n",
    "\n",
    "% matplotlib inline\n",
    "import warnings\n",
    "warnings.filterwarnings('ignore')\n",
    "\n",
    "\n",
    "\n",
    "obs_x = [1.5, 2, 3, 4, 5, 12]  #can only see particles from 1 to 20\n",
    "\n",
    "\n",
    "def BiasPmf(pmf, label=None):\n",
    "    \"\"\"Returns the Pmf with values outside 1-20 removed.\n",
    "    \n",
    "    If invert=True, computes in inverse operation; for example,\n",
    "    unbiasing a sample collected from students.\n",
    "\n",
    "    Args:\n",
    "      pmf: Pmf object.\n",
    "      label: string name for the new Pmf.\n",
    "      invert: boolean\n",
    "\n",
    "     Returns:\n",
    "       Pmf object\n",
    "    \"\"\"\n",
    "    new_pmf = pmf.Copy(label=label)\n",
    "\n",
    "    for x in pmf.Values():\n",
    "        if x < 1 or x > 20:\n",
    "            new_pmf.Mult(x, 0)        \n",
    "    new_pmf.Normalize()\n",
    "    return new_pmf\n",
    "\n",
    "\n",
    "def EvalBiasedExpPdf(k, lam, low = 1, high = 20):\n",
    "    \"\"\"\n",
    "    Function to evaluate an exponential pdf which is biased by removing\n",
    "    all values below 'low' and above 'high'. \n",
    "    \"\"\"\n",
    "    correction = math.exp(-lam * low) - math.exp(-lam * high) # range of probabilities covered by biased pdf\n",
    "    prob = lam * math.exp(-lam * k) / correction # scale the probabilities based on the range.\n",
    "                                                 # as the visible range shrinks, the prob of observing a particle \n",
    "                                                 # in the range goes up due to observer bias\n",
    "    return prob\n",
    "\n",
    "\n",
    "class Particle(thinkbayes2.Suite):\n",
    "    \n",
    "    def __init__(self):\n",
    "        pmf = thinkbayes2.MakeUniformPmf(0.001,2,1001)\n",
    "        thinkbayes2.Suite.__init__(self,pmf)\n",
    "        \n",
    "    def Likelihood(self,data,hypo):\n",
    "        lam = hypo\n",
    "        k = data\n",
    "        like = EvalBiasedExpPdf(k, lam)\n",
    "        return like\n",
    "    \n",
    "\n"
   ]
  },
  {
   "cell_type": "code",
   "execution_count": 99,
   "metadata": {
    "scrolled": false
   },
   "outputs": [
    {
     "data": {
      "image/png": "[encoded data removed]",
      "text/plain": [
       "<matplotlib.figure.Figure at 0x1f7d53ed898>"
      ]
     },
     "metadata": {},
     "output_type": "display_data"
    }
   ],
   "source": [
    "\n",
    "part = Particle()\n",
    "\n",
    "#plot prior\n",
    "thinkplot.PrePlot(1)\n",
    "thinkplot.Pdf(part)\n",
    "thinkplot.Config(xlabel='lambda (decay rate 1/cm)',\n",
    "                ylabel='Probability')\n"
   ]
  },
  {
   "cell_type": "code",
   "execution_count": 102,
   "metadata": {
    "scrolled": false
   },
   "outputs": [
    {
     "data": {
      "image/png": "[encoded data removed]",
      "text/plain": [
       "<matplotlib.figure.Figure at 0x1f7d54fd828>"
      ]
     },
     "metadata": {},
     "output_type": "display_data"
    }
   ],
   "source": [
    "part.UpdateSet(obs_x)\n",
    "\n",
    "#plot posterior\n",
    "thinkplot.PrePlot(1)\n",
    "thinkplot.Pdf(part)\n",
    "thinkplot.Config(xlabel='lambda (decay rate 1/cm)',\n",
    "                ylabel='Probability')\n"
   ]
  }
 ],
 "metadata": {
  "kernelspec": {
   "display_name": "Python 3",
   "language": "python",
   "name": "python3"
  },
  "language_info": {
   "codemirror_mode": {
    "name": "ipython",
    "version": 3
   },
   "file_extension": ".py",
   "mimetype": "text/x-python",
   "name": "python",
   "nbconvert_exporter": "python",
   "pygments_lexer": "ipython3",
   "version": "3.6.3"
  }
 },
 "nbformat": 4,
 "nbformat_minor": 2
}
